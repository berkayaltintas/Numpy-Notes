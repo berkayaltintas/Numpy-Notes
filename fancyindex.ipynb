{
 "cells": [
  {
   "cell_type": "markdown",
   "id": "4e8abd82-8221-4ccf-b87c-39bccddbdeeb",
   "metadata": {},
   "source": [
    "# FANCY INDEX KULLANIMI"
   ]
  },
  {
   "cell_type": "code",
   "execution_count": 2,
   "id": "53192bb5-c566-4428-831a-635edf1a6cb5",
   "metadata": {},
   "outputs": [],
   "source": [
    "import numpy as np"
   ]
  },
  {
   "cell_type": "code",
   "execution_count": 3,
   "id": "5a3be237-4dbb-4429-8526-5f47bd0c4e55",
   "metadata": {},
   "outputs": [],
   "source": [
    "v=np.arange(0,40,3)"
   ]
  },
  {
   "cell_type": "code",
   "execution_count": 4,
   "id": "d93b2bce-07c4-4f34-8ac1-8d570410c000",
   "metadata": {},
   "outputs": [
    {
     "data": {
      "text/plain": [
       "array([ 0,  3,  6,  9, 12, 15, 18, 21, 24, 27, 30, 33, 36, 39])"
      ]
     },
     "execution_count": 4,
     "metadata": {},
     "output_type": "execute_result"
    }
   ],
   "source": [
    "v"
   ]
  },
  {
   "cell_type": "code",
   "execution_count": 5,
   "id": "b749abdb-de66-41e7-b80f-bc9cb6939279",
   "metadata": {},
   "outputs": [
    {
     "data": {
      "text/plain": [
       "3"
      ]
     },
     "execution_count": 5,
     "metadata": {},
     "output_type": "execute_result"
    }
   ],
   "source": [
    "v[1]"
   ]
  },
  {
   "cell_type": "code",
   "execution_count": 6,
   "id": "ff0d323e-1e0a-4602-a07c-84eb296b9ded",
   "metadata": {},
   "outputs": [
    {
     "data": {
      "text/plain": [
       "15"
      ]
     },
     "execution_count": 6,
     "metadata": {},
     "output_type": "execute_result"
    }
   ],
   "source": [
    "v[5]"
   ]
  },
  {
   "cell_type": "markdown",
   "id": "35d7db1e-f2d0-4d70-a9a2-a076e8d6c6ec",
   "metadata": {},
   "source": [
    "Bu şekilde çağırabiliyorduk.Yada liste şeklinde çağırırsak."
   ]
  },
  {
   "cell_type": "code",
   "execution_count": 8,
   "id": "efb6e6ec-ab46-4e82-b6e6-202e808c8753",
   "metadata": {},
   "outputs": [
    {
     "data": {
      "text/plain": [
       "[3, 15, 21]"
      ]
     },
     "execution_count": 8,
     "metadata": {},
     "output_type": "execute_result"
    }
   ],
   "source": [
    "[v[1],v[5],v[7]] # Bu şekilde de çağırabiliyoruz."
   ]
  },
  {
   "cell_type": "code",
   "execution_count": 9,
   "id": "1acfbe98-b19e-4139-a39e-559e9719c747",
   "metadata": {},
   "outputs": [],
   "source": [
    "getir=[1,5,7]"
   ]
  },
  {
   "cell_type": "code",
   "execution_count": 12,
   "id": "9dd54975-ae29-4794-9f12-773ae932778c",
   "metadata": {},
   "outputs": [
    {
     "data": {
      "text/plain": [
       "array([ 3, 15, 21])"
      ]
     },
     "execution_count": 12,
     "metadata": {},
     "output_type": "execute_result"
    }
   ],
   "source": [
    "v[getir] #Fancy özelliğini kullanrak kısaca böyle getirebiliriz.Teker teker yazmaya gerek kalmayacaktır."
   ]
  },
  {
   "cell_type": "markdown",
   "id": "3fb2eefd-d538-44e3-855f-899c3829315f",
   "metadata": {},
   "source": [
    "## İki boyutlu Fancy kullanımı"
   ]
  },
  {
   "cell_type": "code",
   "execution_count": 14,
   "id": "1a49289e-6862-4804-9f8d-eeafc9790113",
   "metadata": {},
   "outputs": [],
   "source": [
    "x=np.arange(9).reshape((3,3))"
   ]
  },
  {
   "cell_type": "code",
   "execution_count": 15,
   "id": "ddc05a73-c4f3-459e-9c67-ab1fef5dfaf4",
   "metadata": {},
   "outputs": [
    {
     "data": {
      "text/plain": [
       "array([[0, 1, 2],\n",
       "       [3, 4, 5],\n",
       "       [6, 7, 8]])"
      ]
     },
     "execution_count": 15,
     "metadata": {},
     "output_type": "execute_result"
    }
   ],
   "source": [
    "x"
   ]
  },
  {
   "cell_type": "code",
   "execution_count": 16,
   "id": "23920124-da77-4b25-be9b-3a072d308e78",
   "metadata": {},
   "outputs": [],
   "source": [
    "satır=np.array([0,1])\n",
    "sutun=np.array([1,2])"
   ]
  },
  {
   "cell_type": "code",
   "execution_count": 19,
   "id": "e7aeeded-0704-42c5-8ce5-925653698e60",
   "metadata": {},
   "outputs": [
    {
     "data": {
      "text/plain": [
       "array([1, 5])"
      ]
     },
     "execution_count": 19,
     "metadata": {},
     "output_type": "execute_result"
    }
   ],
   "source": [
    "x[satır,sutun]"
   ]
  },
  {
   "cell_type": "code",
   "execution_count": 20,
   "id": "ec552a25-cf5c-4458-ae11-e3f248661e95",
   "metadata": {},
   "outputs": [
    {
     "data": {
      "text/plain": [
       "array([[0, 1, 2],\n",
       "       [3, 4, 5],\n",
       "       [6, 7, 8]])"
      ]
     },
     "execution_count": 20,
     "metadata": {},
     "output_type": "execute_result"
    }
   ],
   "source": [
    "x"
   ]
  },
  {
   "cell_type": "code",
   "execution_count": null,
   "id": "abee4a65-4043-42dd-85b1-32e01407b04e",
   "metadata": {},
   "outputs": [],
   "source": []
  }
 ],
 "metadata": {
  "kernelspec": {
   "display_name": "Python 3 (ipykernel)",
   "language": "python",
   "name": "python3"
  },
  "language_info": {
   "codemirror_mode": {
    "name": "ipython",
    "version": 3
   },
   "file_extension": ".py",
   "mimetype": "text/x-python",
   "name": "python",
   "nbconvert_exporter": "python",
   "pygments_lexer": "ipython3",
   "version": "3.9.12"
  }
 },
 "nbformat": 4,
 "nbformat_minor": 5
}
