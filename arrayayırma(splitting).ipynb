{
 "cells": [
  {
   "cell_type": "markdown",
   "id": "405125a7-3777-4e27-8f56-5282cac345bf",
   "metadata": {},
   "source": [
    "# Array ayırma ( Spilitting)"
   ]
  },
  {
   "cell_type": "code",
   "execution_count": 2,
   "id": "c3613fef-39e2-4422-9b9b-52fdcdc0a627",
   "metadata": {},
   "outputs": [],
   "source": [
    "import numpy as np"
   ]
  },
  {
   "cell_type": "code",
   "execution_count": 3,
   "id": "475d0670-2355-41d2-ac91-3ebf14b1dbdb",
   "metadata": {},
   "outputs": [],
   "source": [
    "x=np.array([1,2,3,4,5,6,7,8,9])\n"
   ]
  },
  {
   "cell_type": "code",
   "execution_count": 4,
   "id": "f9cef645-c05e-4b7c-9325-c5702194b63b",
   "metadata": {},
   "outputs": [
    {
     "data": {
      "text/plain": [
       "[array([1, 2, 3]), array([4, 5]), array([6, 7, 8, 9])]"
      ]
     },
     "execution_count": 4,
     "metadata": {},
     "output_type": "execute_result"
    }
   ],
   "source": [
    "np.split(x,(3,5))"
   ]
  },
  {
   "cell_type": "markdown",
   "id": "d7923b5b-a210-40b4-b166-ceff54b24eed",
   "metadata": {},
   "source": [
    "Burada indekse göre sayııp ayrılır. Dikkat edilmesi gereken önemli bir husustur."
   ]
  },
  {
   "cell_type": "markdown",
   "id": "17431ea0-68d3-4270-a9e8-f1e8c589f6ff",
   "metadata": {},
   "source": [
    "Ekstra olarak otomatik olarak şöyle atama yapabiliriz.\n"
   ]
  },
  {
   "cell_type": "code",
   "execution_count": 5,
   "id": "27f9e2a8-66ca-4ee7-831f-14fb713ecab5",
   "metadata": {},
   "outputs": [],
   "source": [
    "a,b,c=np.split(x,(3,5))"
   ]
  },
  {
   "cell_type": "code",
   "execution_count": 6,
   "id": "be133ffe-010c-4728-af8e-7e60e5901609",
   "metadata": {},
   "outputs": [
    {
     "data": {
      "text/plain": [
       "array([1, 2, 3])"
      ]
     },
     "execution_count": 6,
     "metadata": {},
     "output_type": "execute_result"
    }
   ],
   "source": [
    "a\n"
   ]
  },
  {
   "cell_type": "code",
   "execution_count": 7,
   "id": "405c2265-c638-4916-a7a3-33ffd67c40c4",
   "metadata": {},
   "outputs": [
    {
     "data": {
      "text/plain": [
       "array([4, 5])"
      ]
     },
     "execution_count": 7,
     "metadata": {},
     "output_type": "execute_result"
    }
   ],
   "source": [
    "b"
   ]
  },
  {
   "cell_type": "code",
   "execution_count": 8,
   "id": "6413ea76-a924-4972-b11c-fed5f5f4d11a",
   "metadata": {},
   "outputs": [
    {
     "data": {
      "text/plain": [
       "array([6, 7, 8, 9])"
      ]
     },
     "execution_count": 8,
     "metadata": {},
     "output_type": "execute_result"
    }
   ],
   "source": [
    "c"
   ]
  },
  {
   "cell_type": "markdown",
   "id": "b0f6c1f2-48e0-4e74-bcda-32ee8d166635",
   "metadata": {},
   "source": [
    "# İki boyutlu ayırma"
   ]
  },
  {
   "cell_type": "code",
   "execution_count": 9,
   "id": "dbbe349c-91d5-423e-8841-9f102681b6ac",
   "metadata": {},
   "outputs": [],
   "source": [
    "m=np.arange(16).reshape(4,4)"
   ]
  },
  {
   "cell_type": "code",
   "execution_count": 10,
   "id": "51e5544b-a9d3-47da-b5c5-adf887721283",
   "metadata": {},
   "outputs": [
    {
     "data": {
      "text/plain": [
       "array([[ 0,  1,  2,  3],\n",
       "       [ 4,  5,  6,  7],\n",
       "       [ 8,  9, 10, 11],\n",
       "       [12, 13, 14, 15]])"
      ]
     },
     "execution_count": 10,
     "metadata": {},
     "output_type": "execute_result"
    }
   ],
   "source": [
    "m"
   ]
  },
  {
   "cell_type": "code",
   "execution_count": 11,
   "id": "7b7dc9bf-1fac-4131-b6e9-2a3745f2c617",
   "metadata": {},
   "outputs": [
    {
     "data": {
      "text/plain": [
       "[array([[0, 1, 2, 3],\n",
       "        [4, 5, 6, 7]]),\n",
       " array([[ 8,  9, 10, 11],\n",
       "        [12, 13, 14, 15]])]"
      ]
     },
     "execution_count": 11,
     "metadata": {},
     "output_type": "execute_result"
    }
   ],
   "source": [
    "np.vsplit(m,[2]) # Dikey olarak 2 nciden sonra ayırır."
   ]
  },
  {
   "cell_type": "code",
   "execution_count": 12,
   "id": "bc2e671d-0fec-43e5-99f7-db5a5545bdfd",
   "metadata": {},
   "outputs": [],
   "source": [
    "ust, alt = np.vsplit(m,[2])"
   ]
  },
  {
   "cell_type": "code",
   "execution_count": 13,
   "id": "ef2501f9-489e-4aec-8f44-b23fe8d4b70a",
   "metadata": {},
   "outputs": [
    {
     "data": {
      "text/plain": [
       "array([[0, 1, 2, 3],\n",
       "       [4, 5, 6, 7]])"
      ]
     },
     "execution_count": 13,
     "metadata": {},
     "output_type": "execute_result"
    }
   ],
   "source": [
    "ust"
   ]
  },
  {
   "cell_type": "code",
   "execution_count": 14,
   "id": "a1ed80dd-a30b-4344-8e30-a715a2f5e4c4",
   "metadata": {},
   "outputs": [
    {
     "data": {
      "text/plain": [
       "array([[ 8,  9, 10, 11],\n",
       "       [12, 13, 14, 15]])"
      ]
     },
     "execution_count": 14,
     "metadata": {},
     "output_type": "execute_result"
    }
   ],
   "source": [
    "alt"
   ]
  },
  {
   "cell_type": "markdown",
   "id": "914e5a67-d216-4fe8-940b-eaa2093bc9b6",
   "metadata": {},
   "source": [
    "Bu şekilde ayırma yapabiliriz.\n"
   ]
  },
  {
   "cell_type": "code",
   "execution_count": 16,
   "id": "539a1192-cffb-49ce-9b68-797094d76443",
   "metadata": {},
   "outputs": [
    {
     "data": {
      "text/plain": [
       "[array([[ 0,  1],\n",
       "        [ 4,  5],\n",
       "        [ 8,  9],\n",
       "        [12, 13]]),\n",
       " array([[ 2,  3],\n",
       "        [ 6,  7],\n",
       "        [10, 11],\n",
       "        [14, 15]])]"
      ]
     },
     "execution_count": 16,
     "metadata": {},
     "output_type": "execute_result"
    }
   ],
   "source": [
    "np.hsplit(m,[2]) # Dikey olarak ayırma bu şekilde yapılabilir."
   ]
  },
  {
   "cell_type": "code",
   "execution_count": null,
   "id": "45b07221-31d5-4e0c-9d51-dc45301fce2c",
   "metadata": {},
   "outputs": [],
   "source": []
  }
 ],
 "metadata": {
  "kernelspec": {
   "display_name": "Python 3 (ipykernel)",
   "language": "python",
   "name": "python3"
  },
  "language_info": {
   "codemirror_mode": {
    "name": "ipython",
    "version": 3
   },
   "file_extension": ".py",
   "mimetype": "text/x-python",
   "name": "python",
   "nbconvert_exporter": "python",
   "pygments_lexer": "ipython3",
   "version": "3.9.12"
  }
 },
 "nbformat": 4,
 "nbformat_minor": 5
}
