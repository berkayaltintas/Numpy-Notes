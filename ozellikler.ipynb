{
 "cells": [
  {
   "cell_type": "markdown",
   "id": "cf82e3d9-40f4-441d-b971-e4ef8079d472",
   "metadata": {},
   "source": [
    "# Özellikler"
   ]
  },
  {
   "cell_type": "markdown",
   "id": "363506a4-a6de-435f-8a55-c1e21e54ba71",
   "metadata": {},
   "source": [
    " * ndim = boyut sayısı\n",
    " * shape= boyut sayısı\n",
    " * size= toplam eleman sayısı\n",
    " * dtype=array veri tipi"
   ]
  },
  {
   "cell_type": "code",
   "execution_count": 2,
   "id": "57e36942-91b3-433f-b3a8-b9d2b1798e81",
   "metadata": {},
   "outputs": [],
   "source": [
    "import numpy as np"
   ]
  },
  {
   "cell_type": "code",
   "execution_count": 4,
   "id": "4b4b2029-42e5-405f-aa66-a0d520c00670",
   "metadata": {},
   "outputs": [
    {
     "data": {
      "text/plain": [
       "array([0, 5, 9, 8, 8, 9, 4, 1, 7, 0])"
      ]
     },
     "execution_count": 4,
     "metadata": {},
     "output_type": "execute_result"
    }
   ],
   "source": [
    "np.random.randint(10,size = 10 ) # 10 dan rastgele 10 tane eleman oluştur."
   ]
  },
  {
   "cell_type": "code",
   "execution_count": 5,
   "id": "dbd23721-6d0b-4a5d-9116-6f3ae5aa2c28",
   "metadata": {},
   "outputs": [],
   "source": [
    "a=np.random.randint(10,size = 10 )"
   ]
  },
  {
   "cell_type": "code",
   "execution_count": 6,
   "id": "9c738fda-9743-4dd7-b18e-f6a26551f418",
   "metadata": {},
   "outputs": [
    {
     "data": {
      "text/plain": [
       "1"
      ]
     },
     "execution_count": 6,
     "metadata": {},
     "output_type": "execute_result"
    }
   ],
   "source": [
    "a.ndim # bir boyutlu olduğunu görüyoruz."
   ]
  },
  {
   "cell_type": "code",
   "execution_count": 7,
   "id": "571a0e80-0017-4b8c-bcef-237925d11386",
   "metadata": {},
   "outputs": [
    {
     "data": {
      "text/plain": [
       "(10,)"
      ]
     },
     "execution_count": 7,
     "metadata": {},
     "output_type": "execute_result"
    }
   ],
   "source": [
    "a.shape #tek boyutlu 10 tane olduğunu görüyoruz."
   ]
  },
  {
   "cell_type": "code",
   "execution_count": 8,
   "id": "f2f3be83-ec9b-4273-92f2-df5032325fce",
   "metadata": {},
   "outputs": [
    {
     "data": {
      "text/plain": [
       "dtype('int32')"
      ]
     },
     "execution_count": 8,
     "metadata": {},
     "output_type": "execute_result"
    }
   ],
   "source": [
    "a.dtype # Tipini veren ifade."
   ]
  },
  {
   "cell_type": "code",
   "execution_count": 9,
   "id": "c1dce69f-6f2f-48dc-9b7d-e003f2265662",
   "metadata": {},
   "outputs": [
    {
     "data": {
      "text/plain": [
       "10"
      ]
     },
     "execution_count": 9,
     "metadata": {},
     "output_type": "execute_result"
    }
   ],
   "source": [
    "a.size # Toplam eleman sayısını veren ifade."
   ]
  },
  {
   "cell_type": "code",
   "execution_count": 11,
   "id": "8632a97b-8982-4125-a77b-58f50688fe86",
   "metadata": {},
   "outputs": [],
   "source": [
    "b=np.random.randint(10,size = (3,5))"
   ]
  },
  {
   "cell_type": "code",
   "execution_count": 12,
   "id": "3de0d1cf-2c96-4cc5-9519-9fd3a72450f4",
   "metadata": {},
   "outputs": [
    {
     "data": {
      "text/plain": [
       "array([[4, 3, 5, 1, 0],\n",
       "       [9, 4, 6, 7, 3],\n",
       "       [9, 5, 7, 3, 5]])"
      ]
     },
     "execution_count": 12,
     "metadata": {},
     "output_type": "execute_result"
    }
   ],
   "source": [
    "b"
   ]
  },
  {
   "cell_type": "code",
   "execution_count": 13,
   "id": "c72b94c4-e906-494e-97d7-122b53462f29",
   "metadata": {},
   "outputs": [
    {
     "data": {
      "text/plain": [
       "2"
      ]
     },
     "execution_count": 13,
     "metadata": {},
     "output_type": "execute_result"
    }
   ],
   "source": [
    "b.ndim"
   ]
  },
  {
   "cell_type": "code",
   "execution_count": 14,
   "id": "fca6895e-acff-4f44-828d-58654407fed7",
   "metadata": {},
   "outputs": [
    {
     "data": {
      "text/plain": [
       "15"
      ]
     },
     "execution_count": 14,
     "metadata": {},
     "output_type": "execute_result"
    }
   ],
   "source": [
    "b.size"
   ]
  },
  {
   "cell_type": "code",
   "execution_count": 15,
   "id": "1f099d0b-883a-408a-b3b7-acf7e9452375",
   "metadata": {},
   "outputs": [
    {
     "data": {
      "text/plain": [
       "dtype('int32')"
      ]
     },
     "execution_count": 15,
     "metadata": {},
     "output_type": "execute_result"
    }
   ],
   "source": [
    "b.dtype"
   ]
  },
  {
   "cell_type": "code",
   "execution_count": 16,
   "id": "a951c45e-79a4-42b9-b17b-066ec92343e4",
   "metadata": {},
   "outputs": [
    {
     "data": {
      "text/plain": [
       "(3, 5)"
      ]
     },
     "execution_count": 16,
     "metadata": {},
     "output_type": "execute_result"
    }
   ],
   "source": [
    "b.shape #Boyut bilgisi vermekte."
   ]
  },
  {
   "cell_type": "code",
   "execution_count": null,
   "id": "1002ae8a-a908-43b8-bac4-510d0a9fb693",
   "metadata": {},
   "outputs": [],
   "source": []
  }
 ],
 "metadata": {
  "kernelspec": {
   "display_name": "Python 3 (ipykernel)",
   "language": "python",
   "name": "python3"
  },
  "language_info": {
   "codemirror_mode": {
    "name": "ipython",
    "version": 3
   },
   "file_extension": ".py",
   "mimetype": "text/x-python",
   "name": "python",
   "nbconvert_exporter": "python",
   "pygments_lexer": "ipython3",
   "version": "3.9.12"
  }
 },
 "nbformat": 4,
 "nbformat_minor": 5
}
