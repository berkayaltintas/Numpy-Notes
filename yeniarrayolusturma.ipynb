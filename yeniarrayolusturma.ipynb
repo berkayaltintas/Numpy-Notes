{
 "cells": [
  {
   "cell_type": "markdown",
   "id": "33b441d5-7b3d-4385-81c1-defe2be830e5",
   "metadata": {},
   "source": [
    "# Numpy arrayı oluşturma"
   ]
  },
  {
   "cell_type": "code",
   "execution_count": 2,
   "id": "3458fe7d-bc71-4d07-a5bb-db9d5be89b06",
   "metadata": {},
   "outputs": [],
   "source": [
    "import numpy as np "
   ]
  },
  {
   "cell_type": "code",
   "execution_count": 3,
   "id": "70f3a35a-6256-4f8a-80e7-d7eda1193f56",
   "metadata": {},
   "outputs": [
    {
     "data": {
      "text/plain": [
       "array([2, 3, 4, 5, 6])"
      ]
     },
     "execution_count": 3,
     "metadata": {},
     "output_type": "execute_result"
    }
   ],
   "source": [
    "np.array([2,3,4,5,6])\n"
   ]
  },
  {
   "cell_type": "code",
   "execution_count": 10,
   "id": "f9dbdebc-cc8a-43b6-82c6-8628afdfc644",
   "metadata": {},
   "outputs": [],
   "source": [
    "a = np.array([2,3,4,5,6])"
   ]
  },
  {
   "cell_type": "code",
   "execution_count": 11,
   "id": "ec04d585-9a0a-4d9d-a74d-0dd7662eef61",
   "metadata": {},
   "outputs": [
    {
     "data": {
      "text/plain": [
       "numpy.ndarray"
      ]
     },
     "execution_count": 11,
     "metadata": {},
     "output_type": "execute_result"
    }
   ],
   "source": [
    "type (a)"
   ]
  },
  {
   "cell_type": "code",
   "execution_count": 13,
   "id": "0ce28746-f0b7-4f56-84ae-2e7334398691",
   "metadata": {},
   "outputs": [
    {
     "data": {
      "text/plain": [
       "array([ 3.14,  8.  ,  9.  , 10.  ,  4.  ])"
      ]
     },
     "execution_count": 13,
     "metadata": {},
     "output_type": "execute_result"
    }
   ],
   "source": [
    "np.array([3.14 , 8 ,9, 10,4])"
   ]
  },
  {
   "cell_type": "markdown",
   "id": "93adb9b0-bc05-469a-be11-0cfcd692f286",
   "metadata": {},
   "source": [
    "As you can see, Numpy allows only one type.\n"
   ]
  },
  {
   "cell_type": "code",
   "execution_count": 14,
   "id": "e9d68bd6-c2e1-4fd2-8962-e1de826d7caf",
   "metadata": {},
   "outputs": [
    {
     "data": {
      "text/plain": [
       "array([ 3,  8,  9, 10,  4])"
      ]
     },
     "execution_count": 14,
     "metadata": {},
     "output_type": "execute_result"
    }
   ],
   "source": [
    "np.array([3.14 , 8 ,9, 10,4], dtype=\"int\")"
   ]
  },
  {
   "cell_type": "markdown",
   "id": "0dfb844d-c75b-4e46-92ca-5b5d59103282",
   "metadata": {},
   "source": [
    "We can make adjustments."
   ]
  },
  {
   "cell_type": "markdown",
   "id": "5fcaa3fa-d986-477b-afde-60beffa5cdb9",
   "metadata": {},
   "source": [
    "## Sıfırdan array oluşturma.\n"
   ]
  },
  {
   "cell_type": "code",
   "execution_count": 15,
   "id": "e90daeb1-763a-459a-bbf2-85470202e640",
   "metadata": {},
   "outputs": [
    {
     "data": {
      "text/plain": [
       "array([0, 0, 0, 0, 0, 0, 0, 0, 0, 0])"
      ]
     },
     "execution_count": 15,
     "metadata": {},
     "output_type": "execute_result"
    }
   ],
   "source": [
    "np.zeros(10,dtype=int)"
   ]
  },
  {
   "cell_type": "code",
   "execution_count": 18,
   "id": "5bef7e46-a0d6-43ba-be6c-713176d54fd0",
   "metadata": {},
   "outputs": [
    {
     "data": {
      "text/plain": [
       "array([[1, 1, 1, 1, 1],\n",
       "       [1, 1, 1, 1, 1],\n",
       "       [1, 1, 1, 1, 1]])"
      ]
     },
     "execution_count": 18,
     "metadata": {},
     "output_type": "execute_result"
    }
   ],
   "source": [
    "np.ones((3,5), dtype=int) #three rows five columns. Create a two-dimensional array."
   ]
  },
  {
   "cell_type": "code",
   "execution_count": 19,
   "id": "440bc047-c122-4176-9b23-4a21124194c2",
   "metadata": {},
   "outputs": [
    {
     "data": {
      "text/plain": [
       "array([[3, 3, 3, 3],\n",
       "       [3, 3, 3, 3],\n",
       "       [3, 3, 3, 3]])"
      ]
     },
     "execution_count": 19,
     "metadata": {},
     "output_type": "execute_result"
    }
   ],
   "source": [
    "np.full((3,4),3) #To create from a fixed number."
   ]
  },
  {
   "cell_type": "code",
   "execution_count": 20,
   "id": "4f0aa1d5-b06d-45ff-9a18-b1fe8ee235c7",
   "metadata": {},
   "outputs": [
    {
     "data": {
      "text/plain": [
       "array([ 0,  7, 14, 21, 28, 35, 42, 49, 56])"
      ]
     },
     "execution_count": 20,
     "metadata": {},
     "output_type": "execute_result"
    }
   ],
   "source": [
    "np.arange(0,58,7) "
   ]
  },
  {
   "cell_type": "code",
   "execution_count": 21,
   "id": "e7ce526b-7c4a-4234-96ae-95f983f98d90",
   "metadata": {},
   "outputs": [
    {
     "data": {
      "text/plain": [
       "array([0.   , 0.125, 0.25 , 0.375, 0.5  , 0.625, 0.75 , 0.875, 1.   ])"
      ]
     },
     "execution_count": 21,
     "metadata": {},
     "output_type": "execute_result"
    }
   ],
   "source": [
    "np.linspace(0,1, 9)"
   ]
  },
  {
   "cell_type": "code",
   "execution_count": 24,
   "id": "facee167-a500-413a-a6b4-05e9840a990a",
   "metadata": {},
   "outputs": [
    {
     "data": {
      "text/plain": [
       "array([[17.41738202,  6.51492851,  9.74203356,  5.94610159],\n",
       "       [ 6.39063777, 15.36846569, 10.1982801 ,  7.69092118],\n",
       "       [18.93937812, 11.27724679, 14.05987623,  9.26597468]])"
      ]
     },
     "execution_count": 24,
     "metadata": {},
     "output_type": "execute_result"
    }
   ],
   "source": [
    "np.random.normal(10,4,(3,4)) # 10=average 4 =standard deviation"
   ]
  },
  {
   "cell_type": "code",
   "execution_count": 23,
   "id": "c068bdab-6728-4f4d-a152-8c7282c42970",
   "metadata": {},
   "outputs": [
    {
     "data": {
      "text/plain": [
       "array([[5, 7, 2, 1],\n",
       "       [0, 1, 3, 3],\n",
       "       [9, 1, 8, 5],\n",
       "       [2, 9, 3, 7]])"
      ]
     },
     "execution_count": 23,
     "metadata": {},
     "output_type": "execute_result"
    }
   ],
   "source": [
    "np.random.randint(0,10,(4,4))"
   ]
  }
 ],
 "metadata": {
  "kernelspec": {
   "display_name": "Python 3 (ipykernel)",
   "language": "python",
   "name": "python3"
  },
  "language_info": {
   "codemirror_mode": {
    "name": "ipython",
    "version": 3
   },
   "file_extension": ".py",
   "mimetype": "text/x-python",
   "name": "python",
   "nbconvert_exporter": "python",
   "pygments_lexer": "ipython3",
   "version": "3.9.12"
  }
 },
 "nbformat": 4,
 "nbformat_minor": 5
}
