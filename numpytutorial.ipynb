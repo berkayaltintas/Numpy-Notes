{
 "cells": [
  {
   "cell_type": "code",
   "execution_count": 6,
   "id": "62af925e-a80b-4623-ab03-fbddd2b5b3ed",
   "metadata": {},
   "outputs": [
    {
     "name": "stdout",
     "output_type": "stream",
     "text": [
      "a\n"
     ]
    }
   ],
   "source": [
    "print(\"a\")"
   ]
  },
  {
   "cell_type": "markdown",
   "id": "5f4de508-2308-4711-95da-08b728239908",
   "metadata": {},
   "source": [
    "Burayı markdown yaptık Yani yorum satırı olarak istediğimiz her şeyi yazabiliriz.\n"
   ]
  },
  {
   "cell_type": "markdown",
   "id": "b8625a36-2e19-45be-a8d1-bfc9f5a5d953",
   "metadata": {},
   "source": [
    "_italik_\n",
    "**kalın**"
   ]
  },
  {
   "cell_type": "code",
   "execution_count": 7,
   "id": "3e5ac562-eb05-4240-82d2-286c2519f8a5",
   "metadata": {},
   "outputs": [],
   "source": [
    "# _italik_ , **kalın** ifadesi bu şekilde oluşturabiliz.\n"
   ]
  },
  {
   "cell_type": "markdown",
   "id": "0e7d10a4-e695-41da-abd9-30dcee635ea3",
   "metadata": {},
   "source": [
    "# Neden Numpy"
   ]
  },
  {
   "cell_type": "code",
   "execution_count": 9,
   "id": "a47110f8-ad55-4aaf-be8a-b7d420397820",
   "metadata": {},
   "outputs": [
    {
     "data": {
      "text/plain": [
       "[3, 4, 5, 6]"
      ]
     },
     "execution_count": 9,
     "metadata": {},
     "output_type": "execute_result"
    }
   ],
   "source": [
    "a=[1,2,3,4]\n",
    "b=[3,4,5,6]\n",
    "a\n",
    "b"
   ]
  },
  {
   "cell_type": "code",
   "execution_count": 10,
   "id": "88876b79-901e-4a4b-85bc-5d3f898ac868",
   "metadata": {},
   "outputs": [],
   "source": [
    "#Görüldüğü gibi en son hangisini çağırırsak çıktısıda o olmaktadır."
   ]
  },
  {
   "cell_type": "code",
   "execution_count": 12,
   "id": "c1a3aed8-1010-4228-abec-114d7925446d",
   "metadata": {},
   "outputs": [],
   "source": [
    "a=[1,2,3,4]\n",
    "b=[3,4,5,6]"
   ]
  },
  {
   "cell_type": "code",
   "execution_count": 13,
   "id": "b3c839ce-fefc-4dd2-b2c7-620b41407167",
   "metadata": {},
   "outputs": [
    {
     "data": {
      "text/plain": [
       "[3, 8, 15, 24]"
      ]
     },
     "execution_count": 13,
     "metadata": {},
     "output_type": "execute_result"
    }
   ],
   "source": [
    "ab=[]\n",
    "\n",
    "for i in range(0,len(a)):\n",
    "    ab.append(a[i]*b[i])\n",
    "ab"
   ]
  },
  {
   "cell_type": "markdown",
   "id": "e74070f9-09f8-4402-8cba-2ee6215a4a89",
   "metadata": {},
   "source": [
    "Burada her iki listeyi çarpıp ab listesine ekleme(append) yaptık.Numerik işlemleri bu şekilde yapamayacağımız için numpy kullanmalıyız.\n"
   ]
  },
  {
   "cell_type": "code",
   "execution_count": 14,
   "id": "ee41b812-0223-4958-a5dc-c32259e2cb38",
   "metadata": {},
   "outputs": [],
   "source": [
    "import numpy as np"
   ]
  },
  {
   "cell_type": "code",
   "execution_count": 15,
   "id": "c2a8057c-fa32-40c0-b83b-5ce343884920",
   "metadata": {},
   "outputs": [
    {
     "data": {
      "text/plain": [
       "array([ 3,  8, 15, 24])"
      ]
     },
     "execution_count": 15,
     "metadata": {},
     "output_type": "execute_result"
    }
   ],
   "source": [
    "a=np.array([1,2,3,4])\n",
    "b=np.array([3,4,5,6])\n",
    "a*b"
   ]
  },
  {
   "cell_type": "markdown",
   "id": "6c73b5b3-e8d6-4352-828e-54408e20bd85",
   "metadata": {},
   "source": [
    "Bu şekilde kısaca çarpabiliyoruz."
   ]
  },
  {
   "cell_type": "code",
   "execution_count": null,
   "id": "4973e10f-0442-4490-aa04-965e9a3d86f7",
   "metadata": {},
   "outputs": [],
   "source": [
    " "
   ]
  }
 ],
 "metadata": {
  "kernelspec": {
   "display_name": "Python 3 (ipykernel)",
   "language": "python",
   "name": "python3"
  },
  "language_info": {
   "codemirror_mode": {
    "name": "ipython",
    "version": 3
   },
   "file_extension": ".py",
   "mimetype": "text/x-python",
   "name": "python",
   "nbconvert_exporter": "python",
   "pygments_lexer": "ipython3",
   "version": "3.9.12"
  }
 },
 "nbformat": 4,
 "nbformat_minor": 5
}
