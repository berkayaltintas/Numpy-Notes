{
 "cells": [
  {
   "cell_type": "markdown",
   "id": "8d4b0796-0df5-4da9-b4bd-262af9223dc7",
   "metadata": {},
   "source": [
    "# Array birleştirme( Concatenation)"
   ]
  },
  {
   "cell_type": "code",
   "execution_count": 2,
   "id": "68ab1b52-3b8b-4250-ae5a-b6c43eb2ea94",
   "metadata": {},
   "outputs": [],
   "source": [
    "import numpy as np\n"
   ]
  },
  {
   "cell_type": "code",
   "execution_count": 3,
   "id": "52f07266-730f-476b-bf7f-6d2b47c99348",
   "metadata": {},
   "outputs": [],
   "source": [
    "x=np.array([3,4,5])\n",
    "y=np.array([7,8,9])\n"
   ]
  },
  {
   "cell_type": "code",
   "execution_count": 4,
   "id": "4e29e09d-74cd-44fd-ae15-e66d53f41ff8",
   "metadata": {},
   "outputs": [
    {
     "data": {
      "text/plain": [
       "array([3, 4, 5, 7, 8, 9])"
      ]
     },
     "execution_count": 4,
     "metadata": {},
     "output_type": "execute_result"
    }
   ],
   "source": [
    "np.concatenate([x,y])"
   ]
  },
  {
   "cell_type": "markdown",
   "id": "e2d81437-df2e-4281-a49e-d8e4ad99efb9",
   "metadata": {},
   "source": [
    "İki array birleştirme yapıldı."
   ]
  },
  {
   "cell_type": "code",
   "execution_count": 5,
   "id": "641360d7-145a-4fac-9d51-4d8fb9fd5fe6",
   "metadata": {},
   "outputs": [],
   "source": [
    "z=np.array([10,11,12])"
   ]
  },
  {
   "cell_type": "code",
   "execution_count": 6,
   "id": "ad17bc2b-aca0-41b2-8967-b1094de8ef69",
   "metadata": {},
   "outputs": [
    {
     "data": {
      "text/plain": [
       "array([ 3,  4,  5,  7,  8,  9, 10, 11, 12])"
      ]
     },
     "execution_count": 6,
     "metadata": {},
     "output_type": "execute_result"
    }
   ],
   "source": [
    "np.concatenate([x,y,z])"
   ]
  },
  {
   "cell_type": "markdown",
   "id": "1b1eb7e1-2a68-4895-9fb1-fe01e9574fd8",
   "metadata": {},
   "source": [
    "## İki boyutlu arrayler için birleştirme"
   ]
  },
  {
   "cell_type": "code",
   "execution_count": 8,
   "id": "25995272-e263-489b-a800-247e1513446f",
   "metadata": {},
   "outputs": [],
   "source": [
    "a=np.array([[1,2,3],\n",
    "          [7,8,9]])"
   ]
  },
  {
   "cell_type": "code",
   "execution_count": 9,
   "id": "2c37f221-663e-439a-833f-3b5f34df17ba",
   "metadata": {},
   "outputs": [
    {
     "data": {
      "text/plain": [
       "array([[1, 2, 3],\n",
       "       [7, 8, 9]])"
      ]
     },
     "execution_count": 9,
     "metadata": {},
     "output_type": "execute_result"
    }
   ],
   "source": [
    "# Kendimiz iki boyutlu bir matris oluşturduk."
   ]
  },
  {
   "cell_type": "code",
   "execution_count": 10,
   "id": "5c1ca60f-108c-47cc-b008-52c99c41115e",
   "metadata": {},
   "outputs": [
    {
     "data": {
      "text/plain": [
       "array([[1, 2, 3],\n",
       "       [7, 8, 9],\n",
       "       [1, 2, 3],\n",
       "       [7, 8, 9]])"
      ]
     },
     "execution_count": 10,
     "metadata": {},
     "output_type": "execute_result"
    }
   ],
   "source": [
    "np.concatenate([a,a])"
   ]
  },
  {
   "cell_type": "markdown",
   "id": "afd8ff51-a656-4298-af71-9a8a672caa7d",
   "metadata": {},
   "source": [
    "Yukarıda da gözüktüğü üzere iki matrisi birleştirme işlemi yaptık."
   ]
  },
  {
   "cell_type": "code",
   "execution_count": 11,
   "id": "414f0a26-0e19-4988-8c81-575389d019b1",
   "metadata": {},
   "outputs": [
    {
     "data": {
      "text/plain": [
       "array([[1, 2, 3],\n",
       "       [7, 8, 9],\n",
       "       [1, 2, 3],\n",
       "       [7, 8, 9]])"
      ]
     },
     "execution_count": 11,
     "metadata": {},
     "output_type": "execute_result"
    }
   ],
   "source": [
    "np.concatenate([a,a], axis=0) #Sütunlara göre birleştirme yapar."
   ]
  },
  {
   "cell_type": "code",
   "execution_count": 12,
   "id": "bd09c623-dfbb-4acc-bf8b-48ec427e9994",
   "metadata": {},
   "outputs": [
    {
     "data": {
      "text/plain": [
       "array([[1, 2, 3, 1, 2, 3],\n",
       "       [7, 8, 9, 7, 8, 9]])"
      ]
     },
     "execution_count": 12,
     "metadata": {},
     "output_type": "execute_result"
    }
   ],
   "source": [
    "np.concatenate([a,a], axis=1) #Satırlara göre birleştirme yapılmıştır."
   ]
  },
  {
   "cell_type": "code",
   "execution_count": null,
   "id": "7bf4520e-a046-471f-b2eb-60a119dc2411",
   "metadata": {},
   "outputs": [],
   "source": []
  }
 ],
 "metadata": {
  "kernelspec": {
   "display_name": "Python 3 (ipykernel)",
   "language": "python",
   "name": "python3"
  },
  "language_info": {
   "codemirror_mode": {
    "name": "ipython",
    "version": 3
   },
   "file_extension": ".py",
   "mimetype": "text/x-python",
   "name": "python",
   "nbconvert_exporter": "python",
   "pygments_lexer": "ipython3",
   "version": "3.9.12"
  }
 },
 "nbformat": 4,
 "nbformat_minor": 5
}
