{
 "cells": [
  {
   "cell_type": "markdown",
   "id": "07b3a0f0-0522-4a55-8089-84d4db923f41",
   "metadata": {},
   "source": [
    "# Yeniden şekillendirme( reshaping)"
   ]
  },
  {
   "cell_type": "code",
   "execution_count": 1,
   "id": "9b10d04d-48a5-43b3-a80a-3e3c3cf0d929",
   "metadata": {},
   "outputs": [],
   "source": [
    "import numpy as np\n"
   ]
  },
  {
   "cell_type": "code",
   "execution_count": 3,
   "id": "cf57ddfc-6e54-444b-8f9c-0098e4bcd4ab",
   "metadata": {},
   "outputs": [
    {
     "data": {
      "text/plain": [
       "array([1, 2, 3, 4, 5, 6, 7, 8, 9])"
      ]
     },
     "execution_count": 3,
     "metadata": {},
     "output_type": "execute_result"
    }
   ],
   "source": [
    "np.arange(1,10)"
   ]
  },
  {
   "cell_type": "code",
   "execution_count": 5,
   "id": "54847efb-d768-42c3-9b2b-3e9400309412",
   "metadata": {},
   "outputs": [
    {
     "data": {
      "text/plain": [
       "array([[1, 2, 3],\n",
       "       [4, 5, 6],\n",
       "       [7, 8, 9]])"
      ]
     },
     "execution_count": 5,
     "metadata": {},
     "output_type": "execute_result"
    }
   ],
   "source": [
    "np.arange(1,10).reshape((3,3))"
   ]
  },
  {
   "cell_type": "markdown",
   "id": "afe2fc9c-ca62-4392-8687-e2463358e316",
   "metadata": {},
   "source": [
    "Bunu ifadeyi görüldüğü gibi 3 e 3 matris olarak yeniden şekillendirdik."
   ]
  },
  {
   "cell_type": "code",
   "execution_count": 8,
   "id": "30d3a683-8c4d-4689-b830-9c45a976fc47",
   "metadata": {},
   "outputs": [],
   "source": [
    "a=np.arange(1,10)"
   ]
  },
  {
   "cell_type": "code",
   "execution_count": 9,
   "id": "7e1690ad-7fee-42af-acc4-e045e1474301",
   "metadata": {},
   "outputs": [
    {
     "data": {
      "text/plain": [
       "1"
      ]
     },
     "execution_count": 9,
     "metadata": {},
     "output_type": "execute_result"
    }
   ],
   "source": [
    "a.ndim"
   ]
  },
  {
   "cell_type": "code",
   "execution_count": 10,
   "id": "960fc809-ce46-4bf1-856f-1926542b70e5",
   "metadata": {},
   "outputs": [],
   "source": [
    "b=np.arange(1,10).reshape(1,9)"
   ]
  },
  {
   "cell_type": "code",
   "execution_count": 11,
   "id": "7ab3e89b-aab6-460e-9c5b-387709dce1cd",
   "metadata": {},
   "outputs": [
    {
     "data": {
      "text/plain": [
       "2"
      ]
     },
     "execution_count": 11,
     "metadata": {},
     "output_type": "execute_result"
    }
   ],
   "source": [
    "b.ndim"
   ]
  },
  {
   "cell_type": "code",
   "execution_count": 12,
   "id": "fdfd7c99-8cde-485a-8fe0-a83e770de41e",
   "metadata": {},
   "outputs": [
    {
     "data": {
      "text/plain": [
       "array([[1, 2, 3, 4, 5, 6, 7, 8, 9]])"
      ]
     },
     "execution_count": 12,
     "metadata": {},
     "output_type": "execute_result"
    }
   ],
   "source": [
    "b"
   ]
  },
  {
   "cell_type": "markdown",
   "id": "552232c9-b5bf-46b0-ac97-3b8ce4ed524a",
   "metadata": {},
   "source": [
    "Görüldüğü gibi iki tane kapalı parantez va bu artık bir matristir."
   ]
  },
  {
   "cell_type": "code",
   "execution_count": null,
   "id": "b78978b0-020f-46b5-beb3-625e61a81c67",
   "metadata": {},
   "outputs": [],
   "source": []
  }
 ],
 "metadata": {
  "kernelspec": {
   "display_name": "Python 3 (ipykernel)",
   "language": "python",
   "name": "python3"
  },
  "language_info": {
   "codemirror_mode": {
    "name": "ipython",
    "version": 3
   },
   "file_extension": ".py",
   "mimetype": "text/x-python",
   "name": "python",
   "nbconvert_exporter": "python",
   "pygments_lexer": "ipython3",
   "version": "3.9.12"
  }
 },
 "nbformat": 4,
 "nbformat_minor": 5
}
