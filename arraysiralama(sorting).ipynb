{
 "cells": [
  {
   "cell_type": "markdown",
   "id": "fb4546de-2dd1-4eca-82e8-8380711f663a",
   "metadata": {},
   "source": [
    " # Array Sıralama (Sorting)"
   ]
  },
  {
   "cell_type": "code",
   "execution_count": 1,
   "id": "b43c1b15-8f0e-413c-aa8e-20decf51f6b9",
   "metadata": {},
   "outputs": [],
   "source": [
    "import numpy as np\n"
   ]
  },
  {
   "cell_type": "code",
   "execution_count": 2,
   "id": "1d21e368-3b4b-4bf8-a6f1-296fcd9b92a8",
   "metadata": {},
   "outputs": [],
   "source": [
    "v = np.array ([86,12,56,6,5,9])"
   ]
  },
  {
   "cell_type": "code",
   "execution_count": 3,
   "id": "352cb2d1-461d-4ee0-afd8-19af2bfe2344",
   "metadata": {},
   "outputs": [
    {
     "data": {
      "text/plain": [
       "array([86, 12, 56,  6,  5,  9])"
      ]
     },
     "execution_count": 3,
     "metadata": {},
     "output_type": "execute_result"
    }
   ],
   "source": [
    "v"
   ]
  },
  {
   "cell_type": "code",
   "execution_count": 4,
   "id": "3e5daed0-568c-4e42-92da-a810fb240357",
   "metadata": {},
   "outputs": [
    {
     "data": {
      "text/plain": [
       "array([ 5,  6,  9, 12, 56, 86])"
      ]
     },
     "execution_count": 4,
     "metadata": {},
     "output_type": "execute_result"
    }
   ],
   "source": [
    "np.sort(v) # Sıralama bu şekilde yapılır"
   ]
  },
  {
   "cell_type": "code",
   "execution_count": 5,
   "id": "7bc1f775-0d47-4dd7-8f60-aea6ee4f0f02",
   "metadata": {},
   "outputs": [],
   "source": [
    "#İki boyutlu sıralama \n"
   ]
  },
  {
   "cell_type": "code",
   "execution_count": 6,
   "id": "f09d6b66-a01f-49de-9ad4-68dd39ce5f2a",
   "metadata": {},
   "outputs": [],
   "source": [
    "m=np.random.normal(30,6,(4,4)) 30= ortalama 6= standart sapma"
   ]
  },
  {
   "cell_type": "code",
   "execution_count": 7,
   "id": "9d4064d5-a4b1-4d9a-ba89-6400fa3aa01d",
   "metadata": {},
   "outputs": [
    {
     "data": {
      "text/plain": [
       "array([[27.59060254, 30.51277281, 35.82063677, 29.53528336],\n",
       "       [31.09828821, 25.49327128, 26.71923341, 32.96692627],\n",
       "       [21.94730734, 25.42666786, 29.34480355, 32.24658785],\n",
       "       [28.36192614, 27.66556615, 38.58256876, 31.33596202]])"
      ]
     },
     "execution_count": 7,
     "metadata": {},
     "output_type": "execute_result"
    }
   ],
   "source": [
    "m"
   ]
  },
  {
   "cell_type": "code",
   "execution_count": 8,
   "id": "c8599936-fbe9-4616-a66d-a1a75bb75402",
   "metadata": {},
   "outputs": [
    {
     "data": {
      "text/plain": [
       "array([[27.59060254, 29.53528336, 30.51277281, 35.82063677],\n",
       "       [25.49327128, 26.71923341, 31.09828821, 32.96692627],\n",
       "       [21.94730734, 25.42666786, 29.34480355, 32.24658785],\n",
       "       [27.66556615, 28.36192614, 31.33596202, 38.58256876]])"
      ]
     },
     "execution_count": 8,
     "metadata": {},
     "output_type": "execute_result"
    }
   ],
   "source": [
    "np.sort(m , axis=1) # Satırlara göre sıralıyoruz."
   ]
  },
  {
   "cell_type": "code",
   "execution_count": 9,
   "id": "ec988d22-3b6e-413b-b10b-f7a29b980fc4",
   "metadata": {},
   "outputs": [
    {
     "data": {
      "text/plain": [
       "array([[21.94730734, 25.42666786, 26.71923341, 29.53528336],\n",
       "       [27.59060254, 25.49327128, 29.34480355, 31.33596202],\n",
       "       [28.36192614, 27.66556615, 35.82063677, 32.24658785],\n",
       "       [31.09828821, 30.51277281, 38.58256876, 32.96692627]])"
      ]
     },
     "execution_count": 9,
     "metadata": {},
     "output_type": "execute_result"
    }
   ],
   "source": [
    "np.sort(m , axis=0) # Sütunlara göre sıralıyoruz."
   ]
  },
  {
   "cell_type": "code",
   "execution_count": null,
   "id": "4727338d-4bf8-4a52-a313-14786f7a517e",
   "metadata": {},
   "outputs": [],
   "source": []
  }
 ],
 "metadata": {
  "kernelspec": {
   "display_name": "Python 3 (ipykernel)",
   "language": "python",
   "name": "python3"
  },
  "language_info": {
   "codemirror_mode": {
    "name": "ipython",
    "version": 3
   },
   "file_extension": ".py",
   "mimetype": "text/x-python",
   "name": "python",
   "nbconvert_exporter": "python",
   "pygments_lexer": "ipython3",
   "version": "3.9.12"
  }
 },
 "nbformat": 4,
 "nbformat_minor": 5
}
