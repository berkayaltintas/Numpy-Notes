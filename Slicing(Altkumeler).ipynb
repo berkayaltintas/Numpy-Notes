{
 "cells": [
  {
   "cell_type": "markdown",
   "id": "4ad5129d-f810-487e-8c40-9f1848a56dc6",
   "metadata": {},
   "source": [
    "# Slicing ile Elemanlara Erişmek ( Array alt kümesine erişmek )"
   ]
  },
  {
   "cell_type": "code",
   "execution_count": 1,
   "id": "6590c8c2-d389-4a0e-be5e-565152db8b4f",
   "metadata": {},
   "outputs": [],
   "source": [
    "import numpy as np\n"
   ]
  },
  {
   "cell_type": "code",
   "execution_count": 2,
   "id": "fcba063c-1920-4d81-b66d-c1157a3c70eb",
   "metadata": {},
   "outputs": [],
   "source": [
    "a=np.arange(20,30) # arange fonksiyonu belli bir aralığı almak için kullanılır."
   ]
  },
  {
   "cell_type": "code",
   "execution_count": 3,
   "id": "bb1069cc-889c-42fa-8fb0-c88fc10e5c6e",
   "metadata": {},
   "outputs": [
    {
     "data": {
      "text/plain": [
       "array([20, 21, 22, 23, 24, 25, 26, 27, 28, 29])"
      ]
     },
     "execution_count": 3,
     "metadata": {},
     "output_type": "execute_result"
    }
   ],
   "source": [
    "a"
   ]
  },
  {
   "cell_type": "code",
   "execution_count": 5,
   "id": "34d9b5b3-5d2c-4583-a10e-cc970eec3d2e",
   "metadata": {},
   "outputs": [
    {
     "data": {
      "text/plain": [
       "array([20, 21, 22])"
      ]
     },
     "execution_count": 5,
     "metadata": {},
     "output_type": "execute_result"
    }
   ],
   "source": [
    "a[0:3] #Burada sıfırıncı index dahil ediyoruz. Ama üçüncü index dahil etmiyoruz."
   ]
  },
  {
   "cell_type": "code",
   "execution_count": 7,
   "id": "e2bffb91-4eac-45e7-b716-065b2301c3cf",
   "metadata": {},
   "outputs": [
    {
     "data": {
      "text/plain": [
       "array([23, 24, 25, 26, 27, 28, 29])"
      ]
     },
     "execution_count": 7,
     "metadata": {},
     "output_type": "execute_result"
    }
   ],
   "source": [
    "a[3:] # Üçüncü indexi alıp geri kalanı belirtmediğimiz için hepsini alıyor."
   ]
  },
  {
   "cell_type": "code",
   "execution_count": 8,
   "id": "9753ec3d-c41e-4466-b0e1-b2f1c4808f8f",
   "metadata": {},
   "outputs": [
    {
     "data": {
      "text/plain": [
       "array([21, 23, 25, 27, 29])"
      ]
     },
     "execution_count": 8,
     "metadata": {},
     "output_type": "execute_result"
    }
   ],
   "source": [
    "a[1 :: 2] #Birinci indexi al ikişer ikişer arttır."
   ]
  },
  {
   "cell_type": "code",
   "execution_count": 10,
   "id": "d1bbadb1-eb2c-4f2a-9b58-c90a92bc9d09",
   "metadata": {},
   "outputs": [
    {
     "data": {
      "text/plain": [
       "array([20, 22, 24, 26, 28])"
      ]
     },
     "execution_count": 10,
     "metadata": {},
     "output_type": "execute_result"
    }
   ],
   "source": [
    "a[0::2] #İkişer ikişer arttır.Başlangıçta sıfırıncı index alındı."
   ]
  },
  {
   "cell_type": "code",
   "execution_count": 11,
   "id": "8c6c926e-59bb-4528-ad23-2e2a64e86bdf",
   "metadata": {},
   "outputs": [
    {
     "data": {
      "text/plain": [
       "array([20, 23, 26, 29])"
      ]
     },
     "execution_count": 11,
     "metadata": {},
     "output_type": "execute_result"
    }
   ],
   "source": [
    "a[0::3]"
   ]
  },
  {
   "cell_type": "markdown",
   "id": "996f4eb5-b5ba-4684-81a2-25f0d6f0db31",
   "metadata": {},
   "source": [
    "**Slicing işlemi dilimlemek anlamında kullanılır , parçalayarak bu alt parçalara ayırırız.**"
   ]
  },
  {
   "cell_type": "markdown",
   "id": "2f8a79b2-cf64-4a72-b21a-849c55623e00",
   "metadata": {},
   "source": [
    "#İki boyutlu slice işlemleri  "
   ]
  },
  {
   "cell_type": "code",
   "execution_count": 12,
   "id": "bfaa320a-50c9-4faa-934f-b8e39d2419c5",
   "metadata": {},
   "outputs": [],
   "source": [
    "m=np.random.randint(10 , size=(5,5))"
   ]
  },
  {
   "cell_type": "code",
   "execution_count": 13,
   "id": "22a7b404-a68e-4eab-81de-cb64b68f3bf9",
   "metadata": {},
   "outputs": [
    {
     "data": {
      "text/plain": [
       "array([[7, 4, 1, 6, 0],\n",
       "       [8, 2, 8, 3, 9],\n",
       "       [3, 4, 7, 6, 4],\n",
       "       [2, 6, 9, 3, 7],\n",
       "       [2, 4, 2, 6, 9]])"
      ]
     },
     "execution_count": 13,
     "metadata": {},
     "output_type": "execute_result"
    }
   ],
   "source": [
    "m"
   ]
  },
  {
   "cell_type": "code",
   "execution_count": 14,
   "id": "7ce98c01-98a2-4a41-9676-5ecd55fae974",
   "metadata": {},
   "outputs": [
    {
     "data": {
      "text/plain": [
       "array([7, 8, 3, 2, 2])"
      ]
     },
     "execution_count": 14,
     "metadata": {},
     "output_type": "execute_result"
    }
   ],
   "source": [
    "m[:,0]"
   ]
  },
  {
   "cell_type": "markdown",
   "id": "1898b5c7-b351-47ae-a938-8d66c7056650",
   "metadata": {},
   "source": [
    "Burada bütün satırlar alınır sıfırıncı index (sütunlarda) alınır."
   ]
  },
  {
   "cell_type": "code",
   "execution_count": 16,
   "id": "7cd48d88-f73a-4444-a654-db775d50eb9f",
   "metadata": {},
   "outputs": [
    {
     "data": {
      "text/plain": [
       "array([4, 2, 4, 6, 4])"
      ]
     },
     "execution_count": 16,
     "metadata": {},
     "output_type": "execute_result"
    }
   ],
   "source": [
    "m[:,1]"
   ]
  },
  {
   "cell_type": "code",
   "execution_count": 18,
   "id": "1be21e97-9cd5-4a8e-89a6-9f04975b147e",
   "metadata": {},
   "outputs": [
    {
     "data": {
      "text/plain": [
       "array([8, 2, 8, 3, 9])"
      ]
     },
     "execution_count": 18,
     "metadata": {},
     "output_type": "execute_result"
    }
   ],
   "source": [
    "m[1,:]"
   ]
  },
  {
   "cell_type": "markdown",
   "id": "a6a1690c-4ab2-4415-980b-3d1f5f8a98fd",
   "metadata": {},
   "source": [
    "Birinci satır alınıyor.Bütun sütunlar alınıyor."
   ]
  },
  {
   "cell_type": "code",
   "execution_count": 20,
   "id": "eeeb127c-d3e7-48c4-8cae-54d5a8015c98",
   "metadata": {},
   "outputs": [
    {
     "data": {
      "text/plain": [
       "array([[7, 4, 1, 6, 0],\n",
       "       [8, 2, 8, 3, 9],\n",
       "       [3, 4, 7, 6, 4],\n",
       "       [2, 6, 9, 3, 7],\n",
       "       [2, 4, 2, 6, 9]])"
      ]
     },
     "execution_count": 20,
     "metadata": {},
     "output_type": "execute_result"
    }
   ],
   "source": [
    "m # Tekrar çağıralım."
   ]
  },
  {
   "cell_type": "code",
   "execution_count": 19,
   "id": "54bf777b-0cfd-47ba-8f29-69043477fbf5",
   "metadata": {},
   "outputs": [
    {
     "data": {
      "text/plain": [
       "array([[7, 4, 1],\n",
       "       [8, 2, 8]])"
      ]
     },
     "execution_count": 19,
     "metadata": {},
     "output_type": "execute_result"
    }
   ],
   "source": [
    "m[0:2, 0:3] # m[a,b] # --> a satırları , b sütunları ifade etmektedirler. 0 dan 2 e kadar(2 dahil değil)"
   ]
  },
  {
   "cell_type": "code",
   "execution_count": 21,
   "id": "60ff43c7-6d25-4a64-8498-5c8edcaacb0b",
   "metadata": {},
   "outputs": [
    {
     "data": {
      "text/plain": [
       "array([[8, 3],\n",
       "       [7, 6]])"
      ]
     },
     "execution_count": 21,
     "metadata": {},
     "output_type": "execute_result"
    }
   ],
   "source": [
    "m[1:3, 2:4] #Kesişilen bölgeye dikkat edilmelidir."
   ]
  },
  {
   "cell_type": "code",
   "execution_count": null,
   "id": "cfc9d0e7-05af-4110-8fab-870fd1686557",
   "metadata": {},
   "outputs": [],
   "source": []
  }
 ],
 "metadata": {
  "kernelspec": {
   "display_name": "Python 3 (ipykernel)",
   "language": "python",
   "name": "python3"
  },
  "language_info": {
   "codemirror_mode": {
    "name": "ipython",
    "version": 3
   },
   "file_extension": ".py",
   "mimetype": "text/x-python",
   "name": "python",
   "nbconvert_exporter": "python",
   "pygments_lexer": "ipython3",
   "version": "3.9.12"
  }
 },
 "nbformat": 4,
 "nbformat_minor": 5
}
