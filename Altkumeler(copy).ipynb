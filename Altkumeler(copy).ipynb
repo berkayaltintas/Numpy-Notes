{
 "cells": [
  {
   "cell_type": "markdown",
   "id": "a33e7773-c72f-4c88-8973-a4208a702822",
   "metadata": {},
   "source": [
    "# Alt Küme Üzerinde İşlem Yapmak"
   ]
  },
  {
   "cell_type": "code",
   "execution_count": 2,
   "id": "899bc2ce-e7d3-4470-aaaf-0aa04d5b487d",
   "metadata": {},
   "outputs": [],
   "source": [
    "import numpy as np\n"
   ]
  },
  {
   "cell_type": "code",
   "execution_count": 3,
   "id": "a4f8351a-6f1c-417a-b3de-92fba0b735d7",
   "metadata": {},
   "outputs": [],
   "source": [
    "a = np.random.randint( 10 , size= (5,5) )"
   ]
  },
  {
   "cell_type": "code",
   "execution_count": 4,
   "id": "c9866818-bae3-478b-8a9f-d165d0b1f0ff",
   "metadata": {},
   "outputs": [
    {
     "data": {
      "text/plain": [
       "array([[4, 2, 5, 0, 7],\n",
       "       [2, 1, 7, 5, 9],\n",
       "       [5, 0, 1, 4, 3],\n",
       "       [3, 3, 4, 7, 2],\n",
       "       [0, 3, 4, 2, 7]])"
      ]
     },
     "execution_count": 4,
     "metadata": {},
     "output_type": "execute_result"
    }
   ],
   "source": [
    "a"
   ]
  },
  {
   "cell_type": "code",
   "execution_count": 5,
   "id": "c029f321-ae5c-4430-9919-d223cd64c151",
   "metadata": {},
   "outputs": [],
   "source": [
    "alt=a[0:3 , 0:2]"
   ]
  },
  {
   "cell_type": "code",
   "execution_count": 6,
   "id": "54b53ff0-0377-4389-a0fb-f477de80f001",
   "metadata": {},
   "outputs": [
    {
     "data": {
      "text/plain": [
       "array([[4, 2],\n",
       "       [2, 1],\n",
       "       [5, 0]])"
      ]
     },
     "execution_count": 6,
     "metadata": {},
     "output_type": "execute_result"
    }
   ],
   "source": [
    "alt\n"
   ]
  },
  {
   "cell_type": "code",
   "execution_count": 7,
   "id": "376a102d-be77-4265-a3f6-f2b3b3ad3b75",
   "metadata": {},
   "outputs": [
    {
     "data": {
      "text/plain": [
       "4"
      ]
     },
     "execution_count": 7,
     "metadata": {},
     "output_type": "execute_result"
    }
   ],
   "source": [
    "alt[0,0] #--> Burada ilk indexlerdeki değeri bulduk."
   ]
  },
  {
   "cell_type": "code",
   "execution_count": 9,
   "id": "5ff1d835-ade4-47ed-a0f8-fb9323f54da8",
   "metadata": {},
   "outputs": [],
   "source": [
    "alt[0,0]=999"
   ]
  },
  {
   "cell_type": "code",
   "execution_count": 14,
   "id": "3fa3ac4d-a39b-44a7-83f6-0f883438318a",
   "metadata": {},
   "outputs": [],
   "source": [
    "alt[1,1]=777"
   ]
  },
  {
   "cell_type": "code",
   "execution_count": 15,
   "id": "5811e70d-e108-4c70-8930-196906bbd223",
   "metadata": {},
   "outputs": [
    {
     "data": {
      "text/plain": [
       "array([[999,   2,   5,   0,   7],\n",
       "       [  2, 777,   7,   5,   9],\n",
       "       [  5,   0,   1,   4,   3],\n",
       "       [  3,   3,   4,   7,   2],\n",
       "       [  0,   3,   4,   2,   7]])"
      ]
     },
     "execution_count": 15,
     "metadata": {},
     "output_type": "execute_result"
    }
   ],
   "source": [
    "a"
   ]
  },
  {
   "cell_type": "code",
   "execution_count": 16,
   "id": "47011a0e-f482-42cd-8418-f91fabec25b8",
   "metadata": {},
   "outputs": [],
   "source": [
    "#Burada alt kümeyi değiştirirken ana matrisi değiştiriyoruz."
   ]
  },
  {
   "cell_type": "markdown",
   "id": "73f1e30f-deaf-44cf-ac01-90f964652ac8",
   "metadata": {},
   "source": [
    "Değiştirmemek için copy fonksiyonunu kullanıyoruz.\n"
   ]
  },
  {
   "cell_type": "code",
   "execution_count": 20,
   "id": "7d370729-62da-46c4-a314-c19a893d0eab",
   "metadata": {},
   "outputs": [],
   "source": [
    "v=np.random.randint(8, size= (4,4))"
   ]
  },
  {
   "cell_type": "code",
   "execution_count": 21,
   "id": "bc4b5ff6-be54-43ed-be0f-2ef6a2a81fb6",
   "metadata": {},
   "outputs": [
    {
     "data": {
      "text/plain": [
       "array([[5, 6, 4, 3],\n",
       "       [4, 1, 4, 7],\n",
       "       [7, 4, 3, 2],\n",
       "       [3, 1, 2, 5]])"
      ]
     },
     "execution_count": 21,
     "metadata": {},
     "output_type": "execute_result"
    }
   ],
   "source": [
    "v"
   ]
  },
  {
   "cell_type": "code",
   "execution_count": 23,
   "id": "1f62939f-4423-4f1a-92c5-fa6665d55456",
   "metadata": {},
   "outputs": [],
   "source": [
    "alt=v[0:2, 0:1].copy()"
   ]
  },
  {
   "cell_type": "code",
   "execution_count": 24,
   "id": "da636290-e76e-43c1-8d6d-99122faf8af2",
   "metadata": {},
   "outputs": [
    {
     "data": {
      "text/plain": [
       "array([[5],\n",
       "       [4]])"
      ]
     },
     "execution_count": 24,
     "metadata": {},
     "output_type": "execute_result"
    }
   ],
   "source": [
    "alt"
   ]
  },
  {
   "cell_type": "code",
   "execution_count": 25,
   "id": "8c686349-e62e-4c95-8133-c53f593c5e00",
   "metadata": {},
   "outputs": [],
   "source": [
    "alt[0,0]=555"
   ]
  },
  {
   "cell_type": "code",
   "execution_count": 26,
   "id": "98e049f6-d56b-4834-a590-f4cd3620a99a",
   "metadata": {},
   "outputs": [
    {
     "data": {
      "text/plain": [
       "array([[555],\n",
       "       [  4]])"
      ]
     },
     "execution_count": 26,
     "metadata": {},
     "output_type": "execute_result"
    }
   ],
   "source": [
    "alt"
   ]
  },
  {
   "cell_type": "code",
   "execution_count": 27,
   "id": "f5391a08-711d-4124-8a29-ba83ae9ff877",
   "metadata": {},
   "outputs": [
    {
     "data": {
      "text/plain": [
       "array([[5, 6, 4, 3],\n",
       "       [4, 1, 4, 7],\n",
       "       [7, 4, 3, 2],\n",
       "       [3, 1, 2, 5]])"
      ]
     },
     "execution_count": 27,
     "metadata": {},
     "output_type": "execute_result"
    }
   ],
   "source": [
    "v"
   ]
  },
  {
   "cell_type": "markdown",
   "id": "f6be3d8c-c2aa-4e02-849d-0d97ff496e91",
   "metadata": {},
   "source": [
    "Görüldüğü üzere copy fonksiyonunu kullandığımız için ana matris üzerinde değişiklik olmamıştır."
   ]
  },
  {
   "cell_type": "code",
   "execution_count": null,
   "id": "3fcf96e7-833b-4043-a53c-a4d4db67f968",
   "metadata": {},
   "outputs": [],
   "source": []
  }
 ],
 "metadata": {
  "kernelspec": {
   "display_name": "Python 3 (ipykernel)",
   "language": "python",
   "name": "python3"
  },
  "language_info": {
   "codemirror_mode": {
    "name": "ipython",
    "version": 3
   },
   "file_extension": ".py",
   "mimetype": "text/x-python",
   "name": "python",
   "nbconvert_exporter": "python",
   "pygments_lexer": "ipython3",
   "version": "3.9.12"
  }
 },
 "nbformat": 4,
 "nbformat_minor": 5
}
